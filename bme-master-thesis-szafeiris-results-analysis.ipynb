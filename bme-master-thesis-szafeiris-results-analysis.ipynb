{
 "cells": [
  {
   "attachments": {},
   "cell_type": "markdown",
   "metadata": {},
   "source": [
    "# BME-Crete Master Thesis (Results analysis)\n",
    "### by **Stylianos Zafeiris**"
   ]
  },
  {
   "attachments": {},
   "cell_type": "markdown",
   "metadata": {},
   "source": [
    "### Imports and necessary variable declarations"
   ]
  },
  {
   "cell_type": "code",
   "execution_count": 1,
   "metadata": {},
   "outputs": [],
   "source": [
    "from pathlib import Path\n",
    "import pandas as pd"
   ]
  },
  {
   "attachments": {},
   "cell_type": "markdown",
   "metadata": {},
   "source": [
    "#### Make sure that all results are extracted"
   ]
  },
  {
   "cell_type": "code",
   "execution_count": 2,
   "metadata": {},
   "outputs": [
    {
     "name": "stdout",
     "output_type": "stream",
     "text": [
      "fat 0\n",
      "muscle 0\n",
      "n4 0\n",
      "n4_norm 0\n",
      "original 0\n",
      "original_norm 0\n"
     ]
    }
   ],
   "source": [
    "! python .\\extract_results.py"
   ]
  },
  {
   "attachments": {},
   "cell_type": "markdown",
   "metadata": {},
   "source": [
    "#### Declare datasets' results paths and load them\n",
    "\n",
    "Read datasets and load them. Then merge them into one dataframe and sort it."
   ]
  },
  {
   "cell_type": "code",
   "execution_count": null,
   "metadata": {},
   "outputs": [],
   "source": [
    "origDatasetPath = Path('./data/results/original_results.csv')\n",
    "origDataset = pd.read_csv(origDatasetPath.absolute())\n",
    "\n",
    "origNormDatasetPath = Path('./data/results/original_norm_results.csv')\n",
    "origNormDataset = pd.read_csv(origNormDatasetPath.absolute())\n",
    "\n",
    "n4DatasetPath = Path('./data/results/n4_results.csv')\n",
    "n4Dataset = pd.read_csv(n4DatasetPath.absolute())\n",
    "\n",
    "n4NormDatasetPath = Path('./data/results/n4_norm_results.csv')\n",
    "n4NormDataset = pd.read_csv(n4NormDatasetPath.absolute())\n",
    "\n",
    "fatDatasetPath = Path('./data/results/fat_results.csv')\n",
    "fatDataset = pd.read_csv(fatDatasetPath.absolute())\n",
    "\n",
    "muscleDatasetPath = Path('./data/results/muscle_results.csv')\n",
    "muscleDataset = pd.read_csv(muscleDatasetPath.absolute())\n",
    "\n",
    "\n",
    "merged = pd.concat([origDataset, origNormDataset, n4Dataset, n4NormDataset, fatDataset, muscleDataset], ignore_index=True)\n",
    "merged.sort_values(by=['balanced_accuracy_score', 'roc_auc_score', 'datasetName', 'featureSelectionMethodName', 'classifierName'])"
   ]
  },
  {
   "attachments": {},
   "cell_type": "markdown",
   "metadata": {},
   "source": [
    "### Main analysis"
   ]
  },
  {
   "attachments": {},
   "cell_type": "markdown",
   "metadata": {},
   "source": [
    "#### Create balanced accuracy boxplots"
   ]
  },
  {
   "cell_type": "code",
   "execution_count": 4,
   "metadata": {},
   "outputs": [
    {
     "ename": "NameError",
     "evalue": "name 'merged' is not defined",
     "output_type": "error",
     "traceback": [
      "\u001b[1;31m---------------------------------------------------------------------------\u001b[0m",
      "\u001b[1;31mNameError\u001b[0m                                 Traceback (most recent call last)",
      "Cell \u001b[1;32mIn[4], line 1\u001b[0m\n\u001b[1;32m----> 1\u001b[0m \u001b[39mprint\u001b[39m(merged)\n",
      "\u001b[1;31mNameError\u001b[0m: name 'merged' is not defined"
     ]
    }
   ],
   "source": [
    "print(merged)"
   ]
  }
 ],
 "metadata": {
  "kernelspec": {
   "display_name": "Python 3",
   "language": "python",
   "name": "python3"
  },
  "language_info": {
   "codemirror_mode": {
    "name": "ipython",
    "version": 3
   },
   "file_extension": ".py",
   "mimetype": "text/x-python",
   "name": "python",
   "nbconvert_exporter": "python",
   "pygments_lexer": "ipython3",
   "version": "3.10.5"
  },
  "orig_nbformat": 4,
  "vscode": {
   "interpreter": {
    "hash": "247fda2a89e2fd035c6c9f2dcf9a7c6f72d0f6fa081db562f6f49621ac4826c4"
   }
  }
 },
 "nbformat": 4,
 "nbformat_minor": 2
}
