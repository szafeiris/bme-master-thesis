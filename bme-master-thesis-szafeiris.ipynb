{
 "cells": [
  {
   "attachments": {},
   "cell_type": "markdown",
   "metadata": {},
   "source": [
    "# BME-Crete Master Thesis\n",
    "### by **Stylianos Zafeiris**"
   ]
  },
  {
   "attachments": {},
   "cell_type": "markdown",
   "metadata": {},
   "source": [
    "#### Imports and necessary variable declarations"
   ]
  },
  {
   "cell_type": "code",
   "execution_count": 1,
   "metadata": {},
   "outputs": [],
   "source": [
    "from src.main import *"
   ]
  },
  {
   "attachments": {},
   "cell_type": "markdown",
   "metadata": {},
   "source": [
    "#### Read original PICAI dataset"
   ]
  },
  {
   "cell_type": "code",
   "execution_count": 3,
   "metadata": {},
   "outputs": [
    {
     "name": "stderr",
     "output_type": "stream",
     "text": [
      "Read csv radiomic file\n"
     ]
    },
    {
     "ename": "AttributeError",
     "evalue": "'GridSearchNestedCVEvaluation' object has no attribute 'evaluate'",
     "output_type": "error",
     "traceback": [
      "\u001b[1;31m---------------------------------------------------------------------------\u001b[0m",
      "\u001b[1;31mAttributeError\u001b[0m                            Traceback (most recent call last)",
      "Cell \u001b[1;32mIn[3], line 41\u001b[0m\n\u001b[0;32m     39\u001b[0m evaluator \u001b[39m=\u001b[39m GridSearchNestedCVEvaluation(\u001b[39m*\u001b[39m\u001b[39m*\u001b[39margs)\n\u001b[0;32m     40\u001b[0m send_to_telegram(\u001b[39m\"\u001b[39m\u001b[39mEvaluation started.\u001b[39m\u001b[39m\"\u001b[39m)\n\u001b[1;32m---> 41\u001b[0m evaluator\u001b[39m.\u001b[39;49mevaluate(X, y, yStrat)\n\u001b[0;32m     42\u001b[0m send_to_telegram(\u001b[39m\"\u001b[39m\u001b[39mEvaluation ended.\u001b[39m\u001b[39m\"\u001b[39m)\n",
      "\u001b[1;31mAttributeError\u001b[0m: 'GridSearchNestedCVEvaluation' object has no attribute 'evaluate'"
     ]
    }
   ],
   "source": [
    "dataService = PicaiDataService()\n",
    "\n",
    "# Extract radiomics from images or read them\n",
    "if os.path.exists(conf.PICAI_RADIOMICS_FILE):\n",
    "    radiomicFeatures = dataService.readRadiomics(conf.PICAI_RADIOMICS_FILE)\n",
    "else:\n",
    "    radiomicFeatures = dataService.extractRadiomics(conf.PICAI_NIFTI_IMAGES_DIR, conf.PICAI_RADIOMICS_FILE)\n",
    "\n",
    "# Create labels for stratification\n",
    "picaiMetadata = dataService.getMetadata(conf.PICAI_METADATA_PATH)    \n",
    "jointDfs = pd.merge(picaiMetadata, radiomicFeatures, on='Patient_Id')\n",
    "conditions = [\n",
    "    (jointDfs['Label'] == 2) & (jointDfs['MagneticFieldStrength'] == 1.5),\n",
    "    (jointDfs['Label'] == 2) & (jointDfs['MagneticFieldStrength'] == 3),\n",
    "    (jointDfs['Label'] > 2)  & (jointDfs['MagneticFieldStrength'] == 1.5),\n",
    "    (jointDfs['Label'] > 2)  & (jointDfs['MagneticFieldStrength'] == 3),\n",
    "]\n",
    "jointDfs['StratifiedLabels'] = np.select(conditions, [0, 1, 2, 3])\n",
    "yStrat = jointDfs['StratifiedLabels'].to_numpy()\n",
    "# log.debug(np.unique(yStrat, return_counts=True))\n",
    "\n",
    "# Get features and original labels\n",
    "patientIds = radiomicFeatures.pop('Patient_Id').to_list()\n",
    "labels = radiomicFeatures.pop('Label')\n",
    "radiomicFeaturesNames = radiomicFeatures.columns.to_list()\n",
    "X = radiomicFeatures.to_numpy()\n",
    "y = np.copy(labels)\n",
    "y[y == 2] = 0   # 0: ISUP = 2,\n",
    "y[y > 2] = 1    # 1: ISUP > 2\n",
    "\n",
    "# Configure evaluation\n",
    "args = {\n",
    "    'patientIds': patientIds,\n",
    "    'radiomicFeaturesNames': radiomicFeaturesNames,\n",
    "    'featureStart': 5,\n",
    "    'featureStep': 10,\n",
    "    'featureStop': 1132,\n",
    "}\n",
    "evaluator = GridSearchNestedCVEvaluation(**args)\n",
    "send_to_telegram(\"Evaluation started.\")\n",
    "evaluator.evaluate(X, y, yStrat)\n",
    "send_to_telegram(\"Evaluation ended.\")"
   ]
  }
 ],
 "metadata": {
  "kernelspec": {
   "display_name": "Python 3",
   "language": "python",
   "name": "python3"
  },
  "language_info": {
   "codemirror_mode": {
    "name": "ipython",
    "version": 3
   },
   "file_extension": ".py",
   "mimetype": "text/x-python",
   "name": "python",
   "nbconvert_exporter": "python",
   "pygments_lexer": "ipython3",
   "version": "3.10.5"
  },
  "orig_nbformat": 4,
  "vscode": {
   "interpreter": {
    "hash": "247fda2a89e2fd035c6c9f2dcf9a7c6f72d0f6fa081db562f6f49621ac4826c4"
   }
  }
 },
 "nbformat": 4,
 "nbformat_minor": 2
}
